{
  "nbformat": 4,
  "nbformat_minor": 0,
  "metadata": {
    "colab": {
      "name": "artificial_neural_network.ipynb",
      "provenance": [],
      "collapsed_sections": [],
      "include_colab_link": true
    },
    "kernelspec": {
      "name": "python3",
      "display_name": "Python 3"
    }
  },
  "cells": [
    {
      "cell_type": "markdown",
      "metadata": {
        "id": "view-in-github",
        "colab_type": "text"
      },
      "source": [
        "<a href=\"https://colab.research.google.com/github/ringerH/ringerH/blob/ML/artificial_neural_network.ipynb\" target=\"_parent\"><img src=\"https://colab.research.google.com/assets/colab-badge.svg\" alt=\"Open In Colab\"/></a>"
      ]
    },
    {
      "cell_type": "markdown",
      "metadata": {
        "id": "lP6JLo1tGNBg"
      },
      "source": [
        "# Artificial Neural Network"
      ]
    },
    {
      "cell_type": "markdown",
      "metadata": {
        "id": "gWZyYmS_UE_L"
      },
      "source": [
        "### Importing the libraries"
      ]
    },
    {
      "cell_type": "code",
      "source": [
        "import numpy as np\n",
        "import pandas as pd\n",
        "import tensorflow as tf"
      ],
      "metadata": {
        "id": "7KZWrFM_DMJe"
      },
      "execution_count": 1,
      "outputs": []
    },
    {
      "cell_type": "code",
      "source": [
        "tf.__version__\n"
      ],
      "metadata": {
        "id": "VPiV7STAEJ29",
        "outputId": "5c90e059-01a1-456d-f78e-5a651b0e7f95",
        "colab": {
          "base_uri": "https://localhost:8080/",
          "height": 36
        }
      },
      "execution_count": 2,
      "outputs": [
        {
          "output_type": "execute_result",
          "data": {
            "text/plain": [
              "'2.8.2'"
            ],
            "application/vnd.google.colaboratory.intrinsic+json": {
              "type": "string"
            }
          },
          "metadata": {},
          "execution_count": 2
        }
      ]
    },
    {
      "cell_type": "markdown",
      "metadata": {
        "id": "1E0Q3aoKUCRX"
      },
      "source": [
        "## Part 1 - Data Preprocessing"
      ]
    },
    {
      "cell_type": "markdown",
      "metadata": {
        "id": "cKWAkFVGUU0Z"
      },
      "source": [
        "### Importing the dataset"
      ]
    },
    {
      "cell_type": "code",
      "source": [
        "dataset = pd.read_csv('Churn_Modelling.csv')\n",
        "x = dataset.iloc[:, 3:-1].values\n",
        "y = dataset.iloc[:, -1].values"
      ],
      "metadata": {
        "id": "ZD5E3-3TEQjP"
      },
      "execution_count": 5,
      "outputs": []
    },
    {
      "cell_type": "markdown",
      "metadata": {
        "id": "N6bQ0UgSU-NJ"
      },
      "source": [
        "### Encoding categorical data"
      ]
    },
    {
      "cell_type": "markdown",
      "metadata": {
        "id": "le5MJreAbW52"
      },
      "source": [
        "Label Encoding the \"Gender\" column"
      ]
    },
    {
      "cell_type": "code",
      "source": [
        "from sklearn.preprocessing import LabelEncoder\n",
        "le = LabelEncoder()\n",
        "x[:, 2] = le.fit_transform(x[:, 2])"
      ],
      "metadata": {
        "id": "f_5CsxmRHzdE"
      },
      "execution_count": 6,
      "outputs": []
    },
    {
      "cell_type": "code",
      "source": [
        "print(x)"
      ],
      "metadata": {
        "id": "WE95E522IRw8",
        "outputId": "1983c538-9f97-4eaf-9f8a-2722b02fe9d1",
        "colab": {
          "base_uri": "https://localhost:8080/"
        }
      },
      "execution_count": 8,
      "outputs": [
        {
          "output_type": "stream",
          "name": "stdout",
          "text": [
            "[[619 'France' 0 ... 1 1 101348.88]\n",
            " [608 'Spain' 0 ... 0 1 112542.58]\n",
            " [502 'France' 0 ... 1 0 113931.57]\n",
            " ...\n",
            " [709 'France' 0 ... 0 1 42085.58]\n",
            " [772 'Germany' 1 ... 1 0 92888.52]\n",
            " [792 'France' 0 ... 1 0 38190.78]]\n"
          ]
        }
      ]
    },
    {
      "cell_type": "markdown",
      "metadata": {
        "id": "CUxGZezpbMcb"
      },
      "source": [
        "One Hot Encoding the \"Geography\" column"
      ]
    },
    {
      "cell_type": "code",
      "source": [
        "from sklearn.compose import ColumnTransformer\n",
        "from sklearn.preprocessing import OneHotEncoder\n",
        "ct = ColumnTransformer(transformers=[('encoder', OneHotEncoder(), [1])], remainder='passthrough')\n",
        "x = np.array(ct.fit_transform(x))"
      ],
      "metadata": {
        "id": "Yqjn43_yIXqQ"
      },
      "execution_count": 12,
      "outputs": []
    },
    {
      "cell_type": "code",
      "source": [
        "print(x)"
      ],
      "metadata": {
        "id": "TLqrWMVrIzMs",
        "outputId": "b7023468-8418-4289-eaf4-5abde32e56ae",
        "colab": {
          "base_uri": "https://localhost:8080/"
        }
      },
      "execution_count": 13,
      "outputs": [
        {
          "output_type": "stream",
          "name": "stdout",
          "text": [
            "[[1.0 0.0 0.0 ... 1 1 101348.88]\n",
            " [0.0 0.0 1.0 ... 0 1 112542.58]\n",
            " [1.0 0.0 0.0 ... 1 0 113931.57]\n",
            " ...\n",
            " [1.0 0.0 0.0 ... 0 1 42085.58]\n",
            " [0.0 1.0 0.0 ... 1 0 92888.52]\n",
            " [1.0 0.0 0.0 ... 1 0 38190.78]]\n"
          ]
        }
      ]
    },
    {
      "cell_type": "markdown",
      "metadata": {
        "id": "vHol938cW8zd"
      },
      "source": [
        "### Splitting the dataset into the Training set and Test set"
      ]
    },
    {
      "cell_type": "code",
      "source": [
        "from sklearn.model_selection import train_test_split\n",
        "x_train, x_test, y_train, y_test = train_test_split(x, y, test_size = 0.2, random_state = 1)"
      ],
      "metadata": {
        "id": "cTRsYJe5I2J0"
      },
      "execution_count": 15,
      "outputs": []
    },
    {
      "cell_type": "markdown",
      "metadata": {
        "id": "RE_FcHyfV3TQ"
      },
      "source": [
        "### Feature Scaling"
      ]
    },
    {
      "cell_type": "code",
      "source": [
        "from sklearn.preprocessing import StandardScaler\n",
        "sc = StandardScaler()\n",
        "x_train= sc.fit_transform(x_train)\n",
        "x_test= sc.transform(x_test)"
      ],
      "metadata": {
        "id": "K4QK1ohNJDMH"
      },
      "execution_count": 16,
      "outputs": []
    },
    {
      "cell_type": "markdown",
      "metadata": {
        "id": "-zfEzkRVXIwF"
      },
      "source": [
        "## Part 2 - Building the ANN"
      ]
    },
    {
      "cell_type": "markdown",
      "metadata": {
        "id": "KvdeScabXtlB"
      },
      "source": [
        "### Initializing the ANN"
      ]
    },
    {
      "cell_type": "code",
      "source": [
        "ann = tf.keras.models.Sequential()"
      ],
      "metadata": {
        "id": "z2gVgUMhN5c3"
      },
      "execution_count": 17,
      "outputs": []
    },
    {
      "cell_type": "markdown",
      "metadata": {
        "id": "rP6urV6SX7kS"
      },
      "source": [
        "### Adding the input layer and the first hidden layer"
      ]
    },
    {
      "cell_type": "code",
      "source": [
        "ann.add(tf.keras.layers.Dense(units=7, activation='relu'))  "
      ],
      "metadata": {
        "id": "Gd7QpqJFOAMu"
      },
      "execution_count": 18,
      "outputs": []
    },
    {
      "cell_type": "markdown",
      "metadata": {
        "id": "BELWAc_8YJze"
      },
      "source": [
        "### Adding the second hidden layer"
      ]
    },
    {
      "cell_type": "code",
      "source": [
        "ann.add(tf.keras.layers.Dense(units=7, activation='relu'))"
      ],
      "metadata": {
        "id": "j9ZUa-RDOTr9"
      },
      "execution_count": 19,
      "outputs": []
    },
    {
      "cell_type": "markdown",
      "metadata": {
        "id": "OyNEe6RXYcU4"
      },
      "source": [
        "### Adding the output layer"
      ]
    },
    {
      "cell_type": "code",
      "source": [
        "ann.add(tf.keras.layers.Dense(units=1, activation='sigmoid'))"
      ],
      "metadata": {
        "id": "RGVtwS9LOUrO"
      },
      "execution_count": 20,
      "outputs": []
    },
    {
      "cell_type": "markdown",
      "metadata": {
        "id": "JT4u2S1_Y4WG"
      },
      "source": [
        "## Part 3 - Training the ANN"
      ]
    },
    {
      "cell_type": "markdown",
      "metadata": {
        "id": "8GWlJChhY_ZI"
      },
      "source": [
        "### Compiling the ANN"
      ]
    },
    {
      "cell_type": "code",
      "source": [
        "ann.compile(optimizer= 'adam', loss = 'binary_crossentropy', metrics = ['accuracy'])"
      ],
      "metadata": {
        "id": "upnADGCDSvOj"
      },
      "execution_count": 21,
      "outputs": []
    },
    {
      "cell_type": "markdown",
      "metadata": {
        "id": "0QR_G5u7ZLSM"
      },
      "source": [
        "### Training the ANN on the Training set"
      ]
    },
    {
      "cell_type": "code",
      "source": [
        "ann.fit(x_train, y_train, batch_size=32, epochs= 50)"
      ],
      "metadata": {
        "id": "H7FPShYCTtLj",
        "outputId": "a7be73e4-3f53-41ff-85e3-a82e78bd3aad",
        "colab": {
          "base_uri": "https://localhost:8080/"
        }
      },
      "execution_count": 24,
      "outputs": [
        {
          "output_type": "stream",
          "name": "stdout",
          "text": [
            "Epoch 1/50\n",
            "250/250 [==============================] - 1s 3ms/step - loss: 0.3272 - accuracy: 0.8643\n",
            "Epoch 2/50\n",
            "250/250 [==============================] - 1s 3ms/step - loss: 0.3276 - accuracy: 0.8643\n",
            "Epoch 3/50\n",
            "250/250 [==============================] - 1s 2ms/step - loss: 0.3275 - accuracy: 0.8645\n",
            "Epoch 4/50\n",
            "250/250 [==============================] - 1s 2ms/step - loss: 0.3275 - accuracy: 0.8635\n",
            "Epoch 5/50\n",
            "250/250 [==============================] - 1s 3ms/step - loss: 0.3273 - accuracy: 0.8640\n",
            "Epoch 6/50\n",
            "250/250 [==============================] - 1s 3ms/step - loss: 0.3273 - accuracy: 0.8652\n",
            "Epoch 7/50\n",
            "250/250 [==============================] - 1s 3ms/step - loss: 0.3277 - accuracy: 0.8636\n",
            "Epoch 8/50\n",
            "250/250 [==============================] - 1s 3ms/step - loss: 0.3269 - accuracy: 0.8651\n",
            "Epoch 9/50\n",
            "250/250 [==============================] - 1s 2ms/step - loss: 0.3277 - accuracy: 0.8630\n",
            "Epoch 10/50\n",
            "250/250 [==============================] - 1s 3ms/step - loss: 0.3270 - accuracy: 0.8666\n",
            "Epoch 11/50\n",
            "250/250 [==============================] - 1s 2ms/step - loss: 0.3272 - accuracy: 0.8637\n",
            "Epoch 12/50\n",
            "250/250 [==============================] - 1s 3ms/step - loss: 0.3275 - accuracy: 0.8629\n",
            "Epoch 13/50\n",
            "250/250 [==============================] - 1s 2ms/step - loss: 0.3274 - accuracy: 0.8650\n",
            "Epoch 14/50\n",
            "250/250 [==============================] - 1s 3ms/step - loss: 0.3274 - accuracy: 0.8650\n",
            "Epoch 15/50\n",
            "250/250 [==============================] - 1s 3ms/step - loss: 0.3275 - accuracy: 0.8636\n",
            "Epoch 16/50\n",
            "250/250 [==============================] - 1s 2ms/step - loss: 0.3277 - accuracy: 0.8645\n",
            "Epoch 17/50\n",
            "250/250 [==============================] - 1s 2ms/step - loss: 0.3274 - accuracy: 0.8649\n",
            "Epoch 18/50\n",
            "250/250 [==============================] - 1s 3ms/step - loss: 0.3271 - accuracy: 0.8631\n",
            "Epoch 19/50\n",
            "250/250 [==============================] - 1s 3ms/step - loss: 0.3275 - accuracy: 0.8656\n",
            "Epoch 20/50\n",
            "250/250 [==============================] - 1s 3ms/step - loss: 0.3275 - accuracy: 0.8644\n",
            "Epoch 21/50\n",
            "250/250 [==============================] - 1s 3ms/step - loss: 0.3271 - accuracy: 0.8625\n",
            "Epoch 22/50\n",
            "250/250 [==============================] - 1s 3ms/step - loss: 0.3274 - accuracy: 0.8629\n",
            "Epoch 23/50\n",
            "250/250 [==============================] - 1s 3ms/step - loss: 0.3271 - accuracy: 0.8633\n",
            "Epoch 24/50\n",
            "250/250 [==============================] - 1s 3ms/step - loss: 0.3268 - accuracy: 0.8648\n",
            "Epoch 25/50\n",
            "250/250 [==============================] - 1s 3ms/step - loss: 0.3273 - accuracy: 0.8645\n",
            "Epoch 26/50\n",
            "250/250 [==============================] - 1s 3ms/step - loss: 0.3268 - accuracy: 0.8646\n",
            "Epoch 27/50\n",
            "250/250 [==============================] - 1s 3ms/step - loss: 0.3276 - accuracy: 0.8630\n",
            "Epoch 28/50\n",
            "250/250 [==============================] - 1s 3ms/step - loss: 0.3278 - accuracy: 0.8640\n",
            "Epoch 29/50\n",
            "250/250 [==============================] - 1s 3ms/step - loss: 0.3279 - accuracy: 0.8637\n",
            "Epoch 30/50\n",
            "250/250 [==============================] - 1s 3ms/step - loss: 0.3268 - accuracy: 0.8654\n",
            "Epoch 31/50\n",
            "250/250 [==============================] - 1s 3ms/step - loss: 0.3274 - accuracy: 0.8635\n",
            "Epoch 32/50\n",
            "250/250 [==============================] - 1s 3ms/step - loss: 0.3272 - accuracy: 0.8636\n",
            "Epoch 33/50\n",
            "250/250 [==============================] - 1s 3ms/step - loss: 0.3276 - accuracy: 0.8633\n",
            "Epoch 34/50\n",
            "250/250 [==============================] - 1s 3ms/step - loss: 0.3275 - accuracy: 0.8640\n",
            "Epoch 35/50\n",
            "250/250 [==============================] - 1s 3ms/step - loss: 0.3273 - accuracy: 0.8646\n",
            "Epoch 36/50\n",
            "250/250 [==============================] - 1s 3ms/step - loss: 0.3274 - accuracy: 0.8635\n",
            "Epoch 37/50\n",
            "250/250 [==============================] - 1s 3ms/step - loss: 0.3271 - accuracy: 0.8640\n",
            "Epoch 38/50\n",
            "250/250 [==============================] - 1s 3ms/step - loss: 0.3270 - accuracy: 0.8640\n",
            "Epoch 39/50\n",
            "250/250 [==============================] - 1s 3ms/step - loss: 0.3272 - accuracy: 0.8656\n",
            "Epoch 40/50\n",
            "250/250 [==============================] - 1s 3ms/step - loss: 0.3275 - accuracy: 0.8645\n",
            "Epoch 41/50\n",
            "250/250 [==============================] - 1s 3ms/step - loss: 0.3276 - accuracy: 0.8648\n",
            "Epoch 42/50\n",
            "250/250 [==============================] - 1s 3ms/step - loss: 0.3266 - accuracy: 0.8637\n",
            "Epoch 43/50\n",
            "250/250 [==============================] - 1s 3ms/step - loss: 0.3275 - accuracy: 0.8649\n",
            "Epoch 44/50\n",
            "250/250 [==============================] - 1s 3ms/step - loss: 0.3270 - accuracy: 0.8634\n",
            "Epoch 45/50\n",
            "250/250 [==============================] - 1s 3ms/step - loss: 0.3275 - accuracy: 0.8645\n",
            "Epoch 46/50\n",
            "250/250 [==============================] - 1s 3ms/step - loss: 0.3270 - accuracy: 0.8645\n",
            "Epoch 47/50\n",
            "250/250 [==============================] - 1s 3ms/step - loss: 0.3269 - accuracy: 0.8643\n",
            "Epoch 48/50\n",
            "250/250 [==============================] - 1s 3ms/step - loss: 0.3276 - accuracy: 0.8648\n",
            "Epoch 49/50\n",
            "250/250 [==============================] - 1s 3ms/step - loss: 0.3274 - accuracy: 0.8618\n",
            "Epoch 50/50\n",
            "250/250 [==============================] - 1s 3ms/step - loss: 0.3270 - accuracy: 0.8643\n"
          ]
        },
        {
          "output_type": "execute_result",
          "data": {
            "text/plain": [
              "<keras.callbacks.History at 0x7ff8a1cc6490>"
            ]
          },
          "metadata": {},
          "execution_count": 24
        }
      ]
    },
    {
      "cell_type": "markdown",
      "metadata": {
        "id": "tJj5k2MxZga3"
      },
      "source": [
        "## Part 4 - Making the predictions and evaluating the model"
      ]
    },
    {
      "cell_type": "markdown",
      "metadata": {
        "id": "84QFoqGYeXHL"
      },
      "source": [
        "### Predicting the result of a single observation"
      ]
    },
    {
      "cell_type": "markdown",
      "metadata": {
        "id": "CGRo3eacgDdC"
      },
      "source": [
        "**Homework**\n",
        "\n",
        "Use our ANN model to predict if the customer with the following informations will leave the bank: \n",
        "\n",
        "Geography: France\n",
        "\n",
        "Credit Score: 600\n",
        "\n",
        "Gender: Male\n",
        "\n",
        "Age: 40 years old\n",
        "\n",
        "Tenure: 3 years\n",
        "\n",
        "Balance: \\$ 60000\n",
        "\n",
        "Number of Products: 2\n",
        "\n",
        "Does this customer have a credit card? Yes\n",
        "\n",
        "Is this customer an Active Member: Yes\n",
        "\n",
        "Estimated Salary: \\$ 50000\n",
        "\n",
        "So, should we say goodbye to that customer?"
      ]
    },
    {
      "cell_type": "markdown",
      "source": [
        ""
      ],
      "metadata": {
        "id": "GBeui4ORVs-V"
      }
    },
    {
      "cell_type": "code",
      "source": [
        "print(ann.predict(sc.transform([[1,0,0, 600, 1, 40, 3, 60000, 2, 1, 1, 50000]])))"
      ],
      "metadata": {
        "id": "MXWT5jSFVuVy",
        "outputId": "3df58f5b-0dfb-49fb-ecd8-137f0b74986d",
        "colab": {
          "base_uri": "https://localhost:8080/"
        }
      },
      "execution_count": 32,
      "outputs": [
        {
          "output_type": "stream",
          "name": "stdout",
          "text": [
            "[[0.03551766]]\n"
          ]
        }
      ]
    },
    {
      "cell_type": "markdown",
      "metadata": {
        "id": "ZhU1LTgPg-kH"
      },
      "source": [
        "**Solution**"
      ]
    },
    {
      "cell_type": "markdown",
      "metadata": {
        "id": "wGjx94g2n7OV"
      },
      "source": [
        "Therefore, our ANN model predicts that this customer stays in the bank!\n",
        "\n",
        "**Important note 1:** Notice that the values of the features were all input in a double pair of square brackets. That's because the \"predict\" method always expects a 2D array as the format of its inputs. And putting our values into a double pair of square brackets makes the input exactly a 2D array.\n",
        "\n",
        "**Important note 2:** Notice also that the \"France\" country was not input as a string in the last column but as \"1, 0, 0\" in the first three columns. That's because of course the predict method expects the one-hot-encoded values of the state, and as we see in the first row of the matrix of features X, \"France\" was encoded as \"1, 0, 0\". And be careful to include these values in the first three columns, because the dummy variables are always created in the first columns."
      ]
    },
    {
      "cell_type": "markdown",
      "metadata": {
        "id": "u7yx47jPZt11"
      },
      "source": [
        "### Predicting the Test set results"
      ]
    },
    {
      "cell_type": "code",
      "source": [
        "y_pred = ann.predict(x_test)\n",
        "y_pred = (y_pred > 0.5)\n",
        "print(np.concatenate((y_pred.reshape(len(y_pred),1), y_test.reshape(len(y_test),1)),1))"
      ],
      "metadata": {
        "id": "9NLU8UxTXmzy",
        "outputId": "43a4a47f-70f2-403b-d851-261cadd5a843",
        "colab": {
          "base_uri": "https://localhost:8080/"
        }
      },
      "execution_count": 33,
      "outputs": [
        {
          "output_type": "stream",
          "name": "stdout",
          "text": [
            "[[0 0]\n",
            " [0 0]\n",
            " [0 0]\n",
            " ...\n",
            " [0 0]\n",
            " [0 0]\n",
            " [1 0]]\n"
          ]
        }
      ]
    },
    {
      "cell_type": "markdown",
      "metadata": {
        "id": "o0oyfLWoaEGw"
      },
      "source": [
        "### Making the Confusion Matrix"
      ]
    },
    {
      "cell_type": "code",
      "source": [
        "from sklearn.metrics import confusion_matrix, accuracy_score\n",
        "cm = confusion_matrix(y_test, y_pred)\n",
        "print(cm)\n",
        "accuracy_score(y_test, y_pred)"
      ],
      "metadata": {
        "id": "B_xJujCCYbL-",
        "outputId": "c7b74c01-5ef6-4cf0-e4eb-1f827ed7927f",
        "colab": {
          "base_uri": "https://localhost:8080/"
        }
      },
      "execution_count": 34,
      "outputs": [
        {
          "output_type": "stream",
          "name": "stdout",
          "text": [
            "[[1513   72]\n",
            " [ 206  209]]\n"
          ]
        },
        {
          "output_type": "execute_result",
          "data": {
            "text/plain": [
              "0.861"
            ]
          },
          "metadata": {},
          "execution_count": 34
        }
      ]
    }
  ]
}